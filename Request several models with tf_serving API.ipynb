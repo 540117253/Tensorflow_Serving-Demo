{
 "cells": [
  {
   "cell_type": "markdown",
   "metadata": {},
   "source": [
    "## 1. Request the first model 'MMModel'"
   ]
  },
  {
   "cell_type": "code",
   "execution_count": 2,
   "metadata": {
    "collapsed": false
   },
   "outputs": [],
   "source": [
    "import tensorflow as tf\n",
    "import grpc\n",
    "import numpy as np\n",
    "from tensorflow_serving.apis import model_service_pb2_grpc, model_management_pb2, get_model_status_pb2, predict_pb2, prediction_service_pb2_grpc\n",
    "from tensorflow_serving.config import model_server_config_pb2\n",
    "from tensorflow.contrib.util import make_tensor_proto\n",
    "from tensorflow.core.framework import types_pb2\n",
    "\n",
    "\n",
    "# 根据方程 y =x^2 + b，构建模型输入的 x 和 y\n",
    "x_data = np.linspace(-1,1,300)[:, np.newaxis]\n",
    "noise = np.random.normal(0, 0.05, x_data.shape)\n",
    "y_data = np.square(x_data) - 0.5 + noise\n",
    "\n",
    "\n",
    "# 连接Tensorflow_Serving服务器\n",
    "channel = grpc.insecure_channel('localhost:8700')\n",
    "stub = prediction_service_pb2_grpc.PredictionServiceStub(channel)\n",
    "\n",
    "\n",
    "# 定义所连接的模型名称及操作名称，此处要对应模型保存时所定义的名称 \n",
    "request = predict_pb2.PredictRequest()\n",
    "request.model_spec.name = 'MMModel'\n",
    "request.model_spec.signature_name = 'your_prediction'\n",
    "\n",
    "# 构建请求报文\n",
    "request.inputs['tensor_info_input_x'].CopyFrom(\n",
    "  tf.contrib.util.make_tensor_proto(x_data, shape=x_data.shape, dtype=types_pb2.DT_FLOAT))\n",
    "request.inputs['tensor_info_input_y'].CopyFrom(\n",
    "  tf.contrib.util.make_tensor_proto(y_data, shape=y_data.shape, dtype=types_pb2.DT_FLOAT))\n",
    "\n",
    "\n",
    "# 发送请求报文并接收预测结构\n",
    "result = stub.Predict(request)"
   ]
  },
  {
   "cell_type": "markdown",
   "metadata": {},
   "source": [
    "## 2. Request the second model 'MMModel_2'"
   ]
  },
  {
   "cell_type": "code",
   "execution_count": 9,
   "metadata": {
    "collapsed": true
   },
   "outputs": [],
   "source": [
    "# 定义所连接的模型名称及操作名称，此处要对应模型保存时所定义的名称 \n",
    "request_2 = predict_pb2.PredictRequest()\n",
    "request_2.model_spec.name = 'MMModel_2'\n",
    "request_2.model_spec.signature_name = 'your_prediction'\n",
    "\n",
    "# 构建请求报文\n",
    "request_2.inputs['tensor_info_input_x'].CopyFrom(\n",
    "  tf.contrib.util.make_tensor_proto(x_data, shape=x_data.shape, dtype=types_pb2.DT_FLOAT))\n",
    "request_2.inputs['tensor_info_input_y'].CopyFrom(\n",
    "  tf.contrib.util.make_tensor_proto(y_data, shape=y_data.shape, dtype=types_pb2.DT_FLOAT))\n",
    "\n",
    "\n",
    "# 发送请求报文并接收预测结构\n",
    "result_2 = stub.Predict(request_2)"
   ]
  },
  {
   "cell_type": "markdown",
   "metadata": {},
   "source": [
    "## 3. Request the third model 'MMModel_3'"
   ]
  },
  {
   "cell_type": "code",
   "execution_count": 8,
   "metadata": {
    "collapsed": false
   },
   "outputs": [],
   "source": [
    "# 定义所连接的模型名称及操作名称，此处要对应模型保存时所定义的名称 \n",
    "request_3 = predict_pb2.PredictRequest()\n",
    "request_3.model_spec.name = 'MMModel_3'\n",
    "request_3.model_spec.signature_name = 'your_prediction'\n",
    "\n",
    "# 构建请求报文\n",
    "request_3.inputs['tensor_info_input_x'].CopyFrom(\n",
    "  tf.contrib.util.make_tensor_proto(x_data, shape=x_data.shape, dtype=types_pb2.DT_FLOAT))\n",
    "request_3.inputs['tensor_info_input_y'].CopyFrom(\n",
    "  tf.contrib.util.make_tensor_proto(y_data, shape=y_data.shape, dtype=types_pb2.DT_FLOAT))\n",
    "\n",
    "\n",
    "# 发送请求报文并接收预测结构\n",
    "result_3 = stub.Predict(request_3)"
   ]
  }
 ],
 "metadata": {
  "anaconda-cloud": {},
  "kernelspec": {
   "display_name": "tensorflow_serving",
   "language": "python",
   "name": "tensorflow_serving"
  },
  "language_info": {
   "codemirror_mode": {
    "name": "ipython",
    "version": 3
   },
   "file_extension": ".py",
   "mimetype": "text/x-python",
   "name": "python",
   "nbconvert_exporter": "python",
   "pygments_lexer": "ipython3",
   "version": "3.5.6"
  }
 },
 "nbformat": 4,
 "nbformat_minor": 1
}
